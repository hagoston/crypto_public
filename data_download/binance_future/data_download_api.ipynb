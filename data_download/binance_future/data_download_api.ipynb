{
 "cells": [
  {
   "cell_type": "code",
   "execution_count": null,
   "metadata": {},
   "outputs": [],
   "source": [
    "import time\n",
    "import hashlib\n",
    "import requests\n",
    "import hmac\n",
    "from urllib.parse import urlencode\n",
    "import datetime\n",
    "import os\n",
    "\n",
    "S_URL_V1 = \"https://api.binance.com/sapi/v1\"\n",
    "\n",
    "api_key = ''\n",
    "secret_key = ''\n",
    "\n",
    "def _sign(params={}):\n",
    "    data = params.copy()\n",
    "    ts = str(int(1000 * time.time()))\n",
    "    data.update({\"timestamp\": ts})     \n",
    "    h = urlencode(data)\n",
    "    hh = h.replace(\"%40\", \"@\")\n",
    "    print(hh)\n",
    "    b = bytearray()\n",
    "    b.extend(secret_key.encode())\n",
    "    signature = hmac.new(b, msg=h.encode('utf-8'), digestmod=hashlib.sha256).hexdigest()\n",
    "    sig = {\"signature\": signature}\n",
    "    print(signature)\n",
    "    return data, sig\n",
    "\n",
    "def post(path, params={}):\n",
    "    sign = _sign(params)\n",
    "    query = urlencode(sign[0]) + \"&\" + urlencode(sign[1])\n",
    "    url = \"%s?%s\" % (path, query)\n",
    "    print(url)\n",
    "    header = {\"X-MBX-APIKEY\": api_key}\n",
    "    print(header)\n",
    "    p = requests.post(url, headers=header, \\\n",
    "        timeout=30, verify=True)\n",
    "    return p\n",
    "\n",
    "def get(path, params):\n",
    "    sign = _sign(params)\n",
    "    query = urlencode(sign[0]) + \"&\" + urlencode(sign[1])\n",
    "    url = \"%s?%s\" % (path, query)\n",
    "    print(url)\n",
    "    header = {\"X-MBX-APIKEY\": api_key}\n",
    "    p = requests.get(url, headers=header, \\\n",
    "        timeout=30, verify=True)\n",
    "    return p\n",
    "\n",
    "def get_ms_from_str(date_time, str_format='%Y%m%d %H:%M:%S'):\n",
    "    # print(int(datetime.datetime.now().timestamp() * 1000))\n",
    "    return int(datetime.datetime.strptime(date_time, str_format).timestamp() * 1000 + 3.6e6)"
   ]
  },
  {
   "cell_type": "code",
   "execution_count": null,
   "metadata": {},
   "outputs": [],
   "source": [
    "print(get_ms_from_str('20200101 00:00:00'))\n",
    "print(1577836800000)"
   ]
  },
  {
   "cell_type": "code",
   "execution_count": null,
   "metadata": {},
   "outputs": [],
   "source": [
    "start_time = get_ms_from_str('20210102 00:00:00')\n",
    "endt_time = get_ms_from_str('20210103 23:59:59')\n",
    "\n",
    "path = \"%s/futuresHistDataId\" % S_URL_V1   \n",
    "params = {\"symbol\": 'BTCUSDT',\n",
    "          \"startTime\": start_time,\n",
    "          \"endTime\": endt_time,\n",
    "          \"dataType\": 'S_DEPTHS',\n",
    "         }\n",
    "\n",
    "# T_TRADE  tick-by-tick trade\n",
    "# T_DEPTH  tick-by-tick order book (level 2); under development.\n",
    "# S_DEPTH  order book snapshot (level 2); temp data solution only for BTCUSDT at the moment.\n",
    "\n",
    "result = post(path, params)\n",
    "downloadId = result.json()['id']\n",
    "\n",
    "# write ids to file\n",
    "ofile = 'id_log.txt'\n",
    "write_header = False\n",
    "if not os.path.exists(ofile) or os.path.getsize(ofile) == 0:\n",
    "    write_header = True\n",
    "\n",
    "with open(ofile, 'a') as out:\n",
    "    if write_header:\n",
    "        out.write('log_time,symbol,startTime,endTime,dataType,id\\n')\n",
    "    out.write(datetime.datetime.today().strftime('%Y%m%d_%H%M%S')\n",
    "              + ',' + params['symbol']\n",
    "              + ',' + str(params['startTime'])\n",
    "              + ',' + str(params['endTime'])\n",
    "              + ',' + params['dataType']\n",
    "              + ',' + str(downloadId)\n",
    "              + '\\n')"
   ]
  },
  {
   "cell_type": "code",
   "execution_count": null,
   "metadata": {},
   "outputs": [],
   "source": [
    "print(result.json())"
   ]
  },
  {
   "cell_type": "code",
   "execution_count": null,
   "metadata": {},
   "outputs": [],
   "source": [
    "path = \"%s/downloadLink\" % S_URL_V1   \n",
    "params = {\"downloadId\": 32869}\n",
    "result = get(path, params)\n",
    "\n",
    "print()\n",
    "print(result.json())\n",
    "print('now = ', int(datetime.datetime.now().timestamp()))"
   ]
  },
  {
   "cell_type": "code",
   "execution_count": null,
   "metadata": {},
   "outputs": [],
   "source": [
    "result.json()['link']"
   ]
  }
 ],
 "metadata": {
  "kernelspec": {
   "display_name": "Python 3",
   "language": "python",
   "name": "python3"
  },
  "language_info": {
   "codemirror_mode": {
    "name": "ipython",
    "version": 3
   },
   "file_extension": ".py",
   "mimetype": "text/x-python",
   "name": "python",
   "nbconvert_exporter": "python",
   "pygments_lexer": "ipython3",
   "version": "3.8.5"
  },
  "toc": {
   "base_numbering": 1,
   "nav_menu": {},
   "number_sections": true,
   "sideBar": true,
   "skip_h1_title": false,
   "title_cell": "Table of Contents",
   "title_sidebar": "Contents",
   "toc_cell": false,
   "toc_position": {},
   "toc_section_display": true,
   "toc_window_display": false
  }
 },
 "nbformat": 4,
 "nbformat_minor": 4
}
